{
 "cells": [
  {
   "cell_type": "code",
   "execution_count": 3,
   "id": "cb186998-5327-40cb-b7ac-fa2c8f32d2bf",
   "metadata": {},
   "outputs": [
    {
     "name": "stdout",
     "output_type": "stream",
     "text": [
      "Data generation complete. The Excel file 'generated_supermarket_data.xlsx' has been created.\n"
     ]
    }
   ],
   "source": [
    "import pandas as pd\n",
    "import numpy as np\n",
    "\n",
    "# Define the items and their price ranges for each supermarket\n",
    "items = {\n",
    "    'item 1': [(700, 1500), (800, 1300), (200, 400)],\n",
    "    'item 2': [(300, 700), (500, 900), (1000, 1300)],\n",
    "    'item 3': [(900, 1200), (400, 600), (500, 700)],\n",
    "    'item 4': [(200, 300), (400, 550), (300, 500)],\n",
    "    'item 5': [(700, 900), (600, 820), (1000, 1100)],\n",
    "    'item 6': [(600, 800), (300, 500), (400, 600)],\n",
    "    'item 7': [(600, 900), (400, 700), (500, 800)],\n",
    "    'item 8': [(200, 320), (400, 590), (300, 510)],\n",
    "    'item 9': [(700, 950), (600, 850), (1000, 1200)],\n",
    "    'item 10': [(300, 720), (500, 905), (950, 1300)],\n",
    "    'item 11': [(200, 300), (400, 800), (120, 180)],\n",
    "    'item 12': [(700, 900), (600, 820), (1000, 1100)],\n",
    "    'item 13': [(600, 800), (300, 500), (400, 600)],\n",
    "    'item 14': [(620, 900), (400, 700), (500, 800)],\n",
    "    'item 15': [(300, 700), (500, 900), (1000, 1300)],\n",
    "    'item 16': [(200, 300), (400, 800), (120, 180)],\n",
    "    'item 17': [(700, 900), (600, 820), (1000, 1100)],\n",
    "    'item 18': [(600, 800), (300, 500), (400, 600)],\n",
    "    'item 19': [(620, 900), (400, 700), (500, 800)],\n",
    "    'item 20': [(300, 700), (500, 900), (1000, 1300)],\n",
    "    'item 21': [(200, 320), (400, 590), (300, 510)],\n",
    "    'item 22': [(700, 950), (600, 850), (1000, 1200)],\n",
    "    'item 23': [(300, 720), (500, 905), (950, 1300)],\n",
    "    'item 24': [(200, 300), (400, 800), (120, 180)],\n",
    "    'item 25': [(700, 900), (600, 820), (1000, 1100)],\n",
    "    \n",
    "}\n",
    "\n",
    "# Create a list to store data\n",
    "data = []\n",
    "\n",
    "# Generate random prices for each item in each supermarket for periods 1 to ...\n",
    "for hour in range(1, 31):\n",
    "    for item_key, ranges in items.items():\n",
    "        item_number = int(item_key.split()[-1])  # Extract numeric part from item key\n",
    "        for i, (low, high) in enumerate(ranges):\n",
    "            supermarket = i + 1\n",
    "            a = np.random.randint(low, high + 1)\n",
    "            b = np.random.randint(low, high + 1)\n",
    "            c = np.random.randint(low, high + 1)\n",
    "            data.append([supermarket, item_number, hour, a, b, c])\n",
    "            \n",
    "# Convert the list to a DataFrame\n",
    "df = pd.DataFrame(data, columns=['Supermarket', 'Item', 'Time', 'a', 'b', 'c'])\n",
    "# Save the DataFrame to an Excel file\n",
    "excel_file_path = 'generated_supermarket_data.xlsx'\n",
    "df.to_excel(excel_file_path, index=False)\n",
    "\n",
    "print(f\"Data generation complete. The Excel file '{excel_file_path}' has been created.\")\n",
    "\n",
    "# Open the Excel file using its default application\n",
    "import os\n",
    "import subprocess\n",
    "\n",
    "if os.path.exists(excel_file_path):\n",
    "    subprocess.Popen(['start', excel_file_path], shell=True)\n",
    "else:\n",
    "    print(f\"File '{excel_file_path}' does not exist.\")\n"
   ]
  }
 ],
 "metadata": {
  "kernelspec": {
   "display_name": "Python 3 (ipykernel)",
   "language": "python",
   "name": "python3"
  },
  "language_info": {
   "codemirror_mode": {
    "name": "ipython",
    "version": 3
   },
   "file_extension": ".py",
   "mimetype": "text/x-python",
   "name": "python",
   "nbconvert_exporter": "python",
   "pygments_lexer": "ipython3",
   "version": "3.11.7"
  }
 },
 "nbformat": 4,
 "nbformat_minor": 5
}
